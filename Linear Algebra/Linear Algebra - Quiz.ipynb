{
 "cells": [
  {
   "cell_type": "markdown",
   "id": "869b004c",
   "metadata": {},
   "source": [
    "The exercises are based on the following courses, all credits are to the original creators:\n",
    "1. Mathematics for Machine Learning given by Prof. David Dye, Dr. Samuel J. Cooper, and Dr. A. Freddie Page from Imperial College of London.\n",
    "2. Essential Math for Data Science in 6 Weeks by Dr. Thomas Nield "
   ]
  },
  {
   "cell_type": "markdown",
   "id": "b20d7029",
   "metadata": {},
   "source": [
    "# Solving simultaneous equations:\n"
   ]
  },
  {
   "cell_type": "markdown",
   "id": "108ef263",
   "metadata": {},
   "source": [
    "## Question 1:\n",
    "Solve the system of equations given by:\n"
   ]
  },
  {
   "cell_type": "code",
   "execution_count": null,
   "id": "ce519ec9",
   "metadata": {},
   "outputs": [],
   "source": [
    "##\n",
    "# ANSWER\n",
    "#\n",
    "\n",
    "a = ...\n",
    "b = ...\n",
    "\n",
    "def question_1(a,b):\n",
    "    x = \n",
    "    return x"
   ]
  },
  {
   "cell_type": "code",
   "execution_count": null,
   "id": "fa100c48",
   "metadata": {},
   "outputs": [],
   "source": [
    "##\n",
    "# GRADING\n",
    "#\n",
    "assert result == , 'Incorrect, please recheck your answer!'"
   ]
  },
  {
   "cell_type": "markdown",
   "id": "1eee14e6",
   "metadata": {},
   "source": [
    "## Question 2:\n",
    "Solve the system of equations given by:"
   ]
  },
  {
   "cell_type": "code",
   "execution_count": null,
   "id": "a5907712",
   "metadata": {},
   "outputs": [],
   "source": [
    "##\n",
    "# ANSWER\n",
    "#\n",
    "\n",
    "a = ...\n",
    "b = ...\n",
    "\n",
    "def question_1(a,b):\n",
    "    x = \n",
    "    return x"
   ]
  },
  {
   "cell_type": "code",
   "execution_count": null,
   "id": "6201eed4",
   "metadata": {},
   "outputs": [],
   "source": [
    "##\n",
    "# GRADING\n",
    "#\n",
    "assert result == , 'Incorrect, please recheck your answer!'"
   ]
  },
  {
   "cell_type": "markdown",
   "id": "13c6a419",
   "metadata": {},
   "source": [
    "# Changing basis:\n",
    "\n"
   ]
  },
  {
   "cell_type": "markdown",
   "id": "a0059610",
   "metadata": {},
   "source": [
    "# Dot products of vectors:\n"
   ]
  },
  {
   "cell_type": "markdown",
   "id": "4d45f653",
   "metadata": {},
   "source": [
    "# Linear dependency of a set of vectors"
   ]
  },
  {
   "cell_type": "markdown",
   "id": "925509ad",
   "metadata": {},
   "source": [
    "# vector operations assessment"
   ]
  },
  {
   "cell_type": "markdown",
   "id": "9f142d09",
   "metadata": {},
   "source": [
    "# Gram-Schmidt process"
   ]
  },
  {
   "cell_type": "markdown",
   "id": "fe36237a",
   "metadata": {},
   "source": [
    "# mapping to spaces with different number of dimensions"
   ]
  },
  {
   "cell_type": "markdown",
   "id": "340675ec",
   "metadata": {},
   "source": [
    "# eigenvalues and eigenvectors"
   ]
  },
  {
   "cell_type": "markdown",
   "id": "f4338f26",
   "metadata": {},
   "source": [
    "# diagonalisation and applications"
   ]
  }
 ],
 "metadata": {
  "kernelspec": {
   "display_name": "Python 3",
   "language": "python",
   "name": "python3"
  },
  "language_info": {
   "codemirror_mode": {
    "name": "ipython",
    "version": 3
   },
   "file_extension": ".py",
   "mimetype": "text/x-python",
   "name": "python",
   "nbconvert_exporter": "python",
   "pygments_lexer": "ipython3",
   "version": "3.8.8"
  }
 },
 "nbformat": 4,
 "nbformat_minor": 5
}
